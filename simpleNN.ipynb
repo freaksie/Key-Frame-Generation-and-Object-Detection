{
 "cells": [
  {
   "cell_type": "code",
   "execution_count": 1,
   "metadata": {},
   "outputs": [],
   "source": [
    "import numpy as np\n",
    "import pandas as pd\n",
    "from sklearn.model_selection import train_test_split"
   ]
  },
  {
   "cell_type": "code",
   "execution_count": 2,
   "metadata": {},
   "outputs": [],
   "source": [
    "# Retrive the dataset\n",
    "ds=pd.read_csv('train.csv')"
   ]
  },
  {
   "cell_type": "code",
   "execution_count": 3,
   "metadata": {},
   "outputs": [
    {
     "data": {
      "text/html": [
       "<div>\n",
       "<style scoped>\n",
       "    .dataframe tbody tr th:only-of-type {\n",
       "        vertical-align: middle;\n",
       "    }\n",
       "\n",
       "    .dataframe tbody tr th {\n",
       "        vertical-align: top;\n",
       "    }\n",
       "\n",
       "    .dataframe thead th {\n",
       "        text-align: right;\n",
       "    }\n",
       "</style>\n",
       "<table border=\"1\" class=\"dataframe\">\n",
       "  <thead>\n",
       "    <tr style=\"text-align: right;\">\n",
       "      <th></th>\n",
       "      <th>X1</th>\n",
       "      <th>X2</th>\n",
       "      <th>X3</th>\n",
       "      <th>X4</th>\n",
       "      <th>X5</th>\n",
       "      <th>X6</th>\n",
       "      <th>X7</th>\n",
       "      <th>X8</th>\n",
       "      <th>X9</th>\n",
       "      <th>X10</th>\n",
       "      <th>...</th>\n",
       "      <th>X14</th>\n",
       "      <th>X15</th>\n",
       "      <th>X16</th>\n",
       "      <th>X17</th>\n",
       "      <th>X18</th>\n",
       "      <th>X19</th>\n",
       "      <th>X20</th>\n",
       "      <th>X21</th>\n",
       "      <th>X22</th>\n",
       "      <th>X23</th>\n",
       "    </tr>\n",
       "  </thead>\n",
       "  <tbody>\n",
       "    <tr>\n",
       "      <th>0</th>\n",
       "      <td>20000</td>\n",
       "      <td>2</td>\n",
       "      <td>2</td>\n",
       "      <td>2</td>\n",
       "      <td>53</td>\n",
       "      <td>4</td>\n",
       "      <td>4</td>\n",
       "      <td>3</td>\n",
       "      <td>3</td>\n",
       "      <td>2</td>\n",
       "      <td>...</td>\n",
       "      <td>18547</td>\n",
       "      <td>19118</td>\n",
       "      <td>18679</td>\n",
       "      <td>19812</td>\n",
       "      <td>0</td>\n",
       "      <td>1300</td>\n",
       "      <td>1170</td>\n",
       "      <td>0</td>\n",
       "      <td>1600</td>\n",
       "      <td>0</td>\n",
       "    </tr>\n",
       "    <tr>\n",
       "      <th>1</th>\n",
       "      <td>100000</td>\n",
       "      <td>2</td>\n",
       "      <td>1</td>\n",
       "      <td>2</td>\n",
       "      <td>28</td>\n",
       "      <td>0</td>\n",
       "      <td>0</td>\n",
       "      <td>0</td>\n",
       "      <td>2</td>\n",
       "      <td>0</td>\n",
       "      <td>...</td>\n",
       "      <td>14479</td>\n",
       "      <td>10775</td>\n",
       "      <td>10998</td>\n",
       "      <td>12655</td>\n",
       "      <td>1300</td>\n",
       "      <td>3005</td>\n",
       "      <td>0</td>\n",
       "      <td>700</td>\n",
       "      <td>2000</td>\n",
       "      <td>1500</td>\n",
       "    </tr>\n",
       "    <tr>\n",
       "      <th>2</th>\n",
       "      <td>200000</td>\n",
       "      <td>2</td>\n",
       "      <td>2</td>\n",
       "      <td>1</td>\n",
       "      <td>35</td>\n",
       "      <td>0</td>\n",
       "      <td>0</td>\n",
       "      <td>0</td>\n",
       "      <td>0</td>\n",
       "      <td>0</td>\n",
       "      <td>...</td>\n",
       "      <td>74770</td>\n",
       "      <td>75826</td>\n",
       "      <td>77741</td>\n",
       "      <td>79597</td>\n",
       "      <td>4000</td>\n",
       "      <td>3010</td>\n",
       "      <td>2600</td>\n",
       "      <td>3000</td>\n",
       "      <td>3000</td>\n",
       "      <td>3000</td>\n",
       "    </tr>\n",
       "    <tr>\n",
       "      <th>3</th>\n",
       "      <td>50000</td>\n",
       "      <td>2</td>\n",
       "      <td>1</td>\n",
       "      <td>1</td>\n",
       "      <td>43</td>\n",
       "      <td>0</td>\n",
       "      <td>0</td>\n",
       "      <td>0</td>\n",
       "      <td>0</td>\n",
       "      <td>2</td>\n",
       "      <td>...</td>\n",
       "      <td>29975</td>\n",
       "      <td>30559</td>\n",
       "      <td>29433</td>\n",
       "      <td>30045</td>\n",
       "      <td>2449</td>\n",
       "      <td>1778</td>\n",
       "      <td>2382</td>\n",
       "      <td>0</td>\n",
       "      <td>1251</td>\n",
       "      <td>1051</td>\n",
       "    </tr>\n",
       "    <tr>\n",
       "      <th>4</th>\n",
       "      <td>100000</td>\n",
       "      <td>2</td>\n",
       "      <td>6</td>\n",
       "      <td>1</td>\n",
       "      <td>29</td>\n",
       "      <td>0</td>\n",
       "      <td>0</td>\n",
       "      <td>0</td>\n",
       "      <td>0</td>\n",
       "      <td>0</td>\n",
       "      <td>...</td>\n",
       "      <td>58083</td>\n",
       "      <td>88344</td>\n",
       "      <td>49443</td>\n",
       "      <td>23159</td>\n",
       "      <td>5712</td>\n",
       "      <td>3503</td>\n",
       "      <td>59000</td>\n",
       "      <td>1600</td>\n",
       "      <td>1000</td>\n",
       "      <td>1000</td>\n",
       "    </tr>\n",
       "  </tbody>\n",
       "</table>\n",
       "<p>5 rows × 23 columns</p>\n",
       "</div>"
      ],
      "text/plain": [
       "       X1  X2  X3  X4  X5  X6  X7  X8  X9  X10  ...    X14    X15    X16  \\\n",
       "0   20000   2   2   2  53   4   4   3   3    2  ...  18547  19118  18679   \n",
       "1  100000   2   1   2  28   0   0   0   2    0  ...  14479  10775  10998   \n",
       "2  200000   2   2   1  35   0   0   0   0    0  ...  74770  75826  77741   \n",
       "3   50000   2   1   1  43   0   0   0   0    2  ...  29975  30559  29433   \n",
       "4  100000   2   6   1  29   0   0   0   0    0  ...  58083  88344  49443   \n",
       "\n",
       "     X17   X18   X19    X20   X21   X22   X23  \n",
       "0  19812     0  1300   1170     0  1600     0  \n",
       "1  12655  1300  3005      0   700  2000  1500  \n",
       "2  79597  4000  3010   2600  3000  3000  3000  \n",
       "3  30045  2449  1778   2382     0  1251  1051  \n",
       "4  23159  5712  3503  59000  1600  1000  1000  \n",
       "\n",
       "[5 rows x 23 columns]"
      ]
     },
     "execution_count": 3,
     "metadata": {},
     "output_type": "execute_result"
    }
   ],
   "source": [
    "# Seperate X as feature vector and Y as output\n",
    "X=ds.iloc[:,0:19]\n",
    "Y=ds.iloc[:,-1]\n",
    "X.head()"
   ]
  },
  {
   "cell_type": "code",
   "execution_count": 4,
   "metadata": {},
   "outputs": [],
   "source": [
    "# Feature scaling\n",
    "X=X.to_numpy()\n",
    "ma=np.amax(X,axis=0)\n",
    "X=np.divide(X,ma)\n",
    "X=pd.DataFrame(X)"
   ]
  },
  {
   "cell_type": "code",
   "execution_count": 5,
   "metadata": {},
   "outputs": [
    {
     "name": "stdout",
     "output_type": "stream",
     "text": [
      "(23, 20000)\n"
     ]
    }
   ],
   "source": [
    "# Distribute data among training set and test set\n",
    "X_train, X_test, Y_train, Y_test = train_test_split (X, Y, test_size=0.4)\n",
    "# Convert sets from datafram to numpy vectors\n",
    "X_train=X_train.to_numpy().T\n",
    "X_test=X_test.to_numpy().T\n",
    "Y_train=Y_train.to_numpy()\n",
    "Y_test=Y_test.to_numpy()\n",
    "# convert 1D vector into 2D vector\n",
    "Y_test=Y_test.reshape((1,X_test.shape[1]))\n",
    "Y_train=Y_train.reshape((1,X_train.shape[1]))"
   ]
  },
  {
   "cell_type": "code",
   "execution_count": 13,
   "metadata": {},
   "outputs": [],
   "source": [
    "m=X_train.shape[1] # Nos of expamle\n",
    "features=X_train.shape[0] #Features\n",
    "iteration=2000\n",
    "learning_rate=0.01"
   ]
  },
  {
   "cell_type": "code",
   "execution_count": 14,
   "metadata": {},
   "outputs": [],
   "source": [
    "#initialize parameter\n",
    "W = np.zeros((features, 1))\n",
    "b = 0\n",
    "assert(W.shape == (features, 1))\n",
    "assert(isinstance(b, float) or isinstance(b, int))\n"
   ]
  },
  {
   "cell_type": "code",
   "execution_count": 15,
   "metadata": {
    "scrolled": false
   },
   "outputs": [
    {
     "name": "stdout",
     "output_type": "stream",
     "text": [
      "0.6931471805599453\n",
      "0.5823029002845883\n",
      "0.5441662648841645\n",
      "0.5293425489556683\n",
      "0.5227774639206709\n",
      "0.5194065802530337\n",
      "0.5173572208873041\n",
      "0.5158866343180786\n",
      "0.5146853127983128\n",
      "0.51361967681926\n",
      "0.5126305118904284\n",
      "0.5116909222923245\n",
      "0.5107883298266642\n",
      "0.5099165853070474\n",
      "0.5090724561153457\n",
      "0.5082540453997445\n",
      "0.5074600756267684\n",
      "0.5066895624659091\n",
      "0.5059416659889021\n",
      "0.5052156226964004\n"
     ]
    }
   ],
   "source": [
    "#Training\n",
    "for i in range(iteration):\n",
    "    #Forward Propogation\n",
    "    Z=np.dot(W.T,X_train)+b\n",
    "    A=1/(1+np.exp(-Z))\n",
    "    #cost Function\n",
    "    J=(- 1 / m) * np.sum(Y_train * np.log(A) + (1 - Y_train) * (np.log(1 - A))) \n",
    "    #Backpropogation\n",
    "    dW=(1/m)*(np.dot(X_train,(A-Y_train).T))\n",
    "    db=(1/m)*(np.sum(A-Y_train))\n",
    "    #Update the parameter\n",
    "    W=W-learning_rate*dW\n",
    "    b=b-learning_rate*db\n",
    "    # Degrading costs\n",
    "    if i%100==0:\n",
    "        print(J)\n",
    "    \n"
   ]
  },
  {
   "cell_type": "code",
   "execution_count": 16,
   "metadata": {},
   "outputs": [
    {
     "name": "stdout",
     "output_type": "stream",
     "text": [
      "test accuracy: 78.075 %\n"
     ]
    }
   ],
   "source": [
    "Z=np.dot(W.T,X_train)+b\n",
    "pred=np.zeros((1,m))\n",
    "A=1/(1+np.exp(-Z))\n",
    "for i in range(X_train.shape[1]):\n",
    "    if(A[0][i]>=0.5):\n",
    "        pred[0][i]=1\n",
    "    else:\n",
    "        pred[0][i]=0\n",
    "print(\"test accuracy: {} %\".format(100 - np.mean(np.abs(pred - Y_train)) * 100))"
   ]
  },
  {
   "cell_type": "code",
   "execution_count": null,
   "metadata": {},
   "outputs": [],
   "source": [
    "#Testing\n",
    "Z=np.dot(W.T,X_test)+b\n",
    "pred=np.zeros((X_test.shape[1]))\n",
    "A=1/(1+np.exp(-Z))\n",
    "for i in range(X_test.shape[1]):\n",
    "    if(A[i]>0.5):\n",
    "        pred[i]=1\n",
    "    else:\n",
    "        pred[i]=0"
   ]
  },
  {
   "cell_type": "code",
   "execution_count": null,
   "metadata": {},
   "outputs": [],
   "source": [
    "#SucessRate\n",
    "print(\"test accuracy: {} %\".format(100 - np.mean(np.abs(pred - Y_test)) * 100))"
   ]
  }
 ],
 "metadata": {
  "kernelspec": {
   "display_name": "Python 3",
   "language": "python",
   "name": "python3"
  },
  "language_info": {
   "codemirror_mode": {
    "name": "ipython",
    "version": 3
   },
   "file_extension": ".py",
   "mimetype": "text/x-python",
   "name": "python",
   "nbconvert_exporter": "python",
   "pygments_lexer": "ipython3",
   "version": "3.6.5"
  }
 },
 "nbformat": 4,
 "nbformat_minor": 4
}
